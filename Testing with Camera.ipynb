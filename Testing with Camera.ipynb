{
 "cells": [
  {
   "cell_type": "code",
   "execution_count": 8,
   "id": "8b8f287c",
   "metadata": {},
   "outputs": [],
   "source": [
    "savedimage=\"F:\\\\.FINAL YEAR PROJECT\\\\cam\\\\savedImage2.jpg\""
   ]
  },
  {
   "cell_type": "code",
   "execution_count": null,
   "id": "417b389b",
   "metadata": {},
   "outputs": [],
   "source": [
    "import cv2\n",
    "vid = cv2.VideoCapture(0)\n",
    "\n",
    "while (True):\n",
    "\n",
    "    ret, frame = vid.read()\n",
    "\n",
    "    cv2.imshow('frame', frame)\n",
    "\n",
    "    cv2.waitKey(1)\n",
    "    cv2.imwrite(savedimage, frame)\n",
    "    #print(\"saved\")\n",
    "\n",
    "vid.release()\n",
    "cv2.destroyAllWindows()"
   ]
  },
  {
   "cell_type": "code",
   "execution_count": 1,
   "id": "2e0b837f",
   "metadata": {},
   "outputs": [],
   "source": [
    "import tensorflow as tf\n",
    "from tensorflow.keras import models, layers\n",
    "import matplotlib.pyplot as plt\n",
    "import tensorflow_hub as hub"
   ]
  },
  {
   "cell_type": "code",
   "execution_count": 2,
   "id": "96f0a692",
   "metadata": {},
   "outputs": [],
   "source": [
    "model = tf.keras.models.load_model(\"F:\\\\.FINAL YEAR PROJECT\\\\LFR EFFICIENTNET.h5\",custom_objects={'KerasLayer':hub.KerasLayer})"
   ]
  },
  {
   "cell_type": "code",
   "execution_count": 3,
   "id": "8b1529e1",
   "metadata": {},
   "outputs": [
    {
     "name": "stdout",
     "output_type": "stream",
     "text": [
      "Found 2360 files belonging to 17 classes.\n"
     ]
    }
   ],
   "source": [
    "BATCH_SIZE = 10\n",
    "IMAGE_SIZE = 224\n",
    "CHANNELS=3\n",
    "\n",
    "\n",
    "dataset = tf.keras.preprocessing.image_dataset_from_directory(\n",
    "    \"F:\\\\.FINAL YEAR PROJECT\\\\split Final dataset\\\\test\",\n",
    "    seed=123,\n",
    "    shuffle=True,\n",
    "    image_size=(IMAGE_SIZE,IMAGE_SIZE),\n",
    "    batch_size=BATCH_SIZE\n",
    ")"
   ]
  },
  {
   "cell_type": "code",
   "execution_count": 4,
   "id": "a928b91c",
   "metadata": {},
   "outputs": [
    {
     "data": {
      "text/plain": [
       "['Apple___Apple_scab',\n",
       " 'Apple___Black_rot',\n",
       " 'Apple___Cedar_apple_rust',\n",
       " 'Apple___healthy',\n",
       " 'Potato___Early_blight',\n",
       " 'Potato___Late_blight',\n",
       " 'Potato___healthy',\n",
       " 'Tomato___Bacterial_spot',\n",
       " 'Tomato___Early_blight',\n",
       " 'Tomato___Late_blight',\n",
       " 'Tomato___Leaf_Mold',\n",
       " 'Tomato___Septoria_leaf_spot',\n",
       " 'Tomato___Spider_mites Two-spotted_spider_mite',\n",
       " 'Tomato___Target_Spot',\n",
       " 'Tomato___Tomato_Yellow_Leaf_Curl_Virus',\n",
       " 'Tomato___Tomato_mosaic_virus',\n",
       " 'Tomato___healthy']"
      ]
     },
     "execution_count": 4,
     "metadata": {},
     "output_type": "execute_result"
    }
   ],
   "source": [
    "class_names = dataset.class_names\n",
    "class_names"
   ]
  },
  {
   "cell_type": "code",
   "execution_count": null,
   "id": "c114b48d",
   "metadata": {},
   "outputs": [],
   "source": [
    "from tensorflow.keras.preprocessing import image\n",
    "import numpy as np\n",
    "img_path =\"F:\\\\.FINAL YEAR PROJECT\\\\cam\\\\savedImage2.jpg\"\n",
    "img = image.load_img(img_path, target_size=(224, 224))\n",
    "plt.imshow(img)\n",
    "x = image.img_to_array(img)\n",
    "x = np.expand_dims(x, axis=0)\n",
    "predictions = model.predict(x)\n",
    "predicted_class = class_names[np.argmax(predictions[0])]\n",
    "confidence = round(100 * (np.max(predictions[0])), 2)\n",
    "print(\"predicted_class : \",predicted_class)\n",
    "print(\"confidence : \" , confidence)"
   ]
  },
  {
   "cell_type": "code",
   "execution_count": null,
   "id": "fce9e06c",
   "metadata": {},
   "outputs": [],
   "source": []
  }
 ],
 "metadata": {
  "kernelspec": {
   "display_name": "Python 3 (ipykernel)",
   "language": "python",
   "name": "python3"
  },
  "language_info": {
   "codemirror_mode": {
    "name": "ipython",
    "version": 3
   },
   "file_extension": ".py",
   "mimetype": "text/x-python",
   "name": "python",
   "nbconvert_exporter": "python",
   "pygments_lexer": "ipython3",
   "version": "3.9.6"
  }
 },
 "nbformat": 4,
 "nbformat_minor": 5
}
