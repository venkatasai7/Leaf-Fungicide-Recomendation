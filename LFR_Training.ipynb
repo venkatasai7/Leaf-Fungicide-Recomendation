{
 "cells": [
  {
   "cell_type": "code",
   "execution_count": 1,
   "id": "afea759d",
   "metadata": {},
   "outputs": [],
   "source": [
    "import numpy as np\n",
    "import pandas as pd \n",
    "import tensorflow as tf\n",
    "from keras import models\n",
    "import matplotlib.pyplot as plt\n",
    "import tensorflow_hub as hub\n",
    "from tensorflow import keras\n",
    "from tensorflow.keras import layers"
   ]
  },
  {
   "cell_type": "code",
   "execution_count": 2,
   "id": "5603f820",
   "metadata": {},
   "outputs": [],
   "source": [
    "BATCH_SIZE = 30 \n",
    "IMAGE_HEIGHT = 224\n",
    "IMAGE_WIDTH=224\n",
    "CHANNELS=3\n",
    "EPOCHS=8  "
   ]
  },
  {
   "cell_type": "code",
   "execution_count": 3,
   "id": "d010abbb",
   "metadata": {},
   "outputs": [
    {
     "name": "stdout",
     "output_type": "stream",
     "text": [
      "Found 18780 files belonging to 17 classes.\n"
     ]
    }
   ],
   "source": [
    "# importing training Dataset\n",
    "\n",
    "TrainDataset = tf.keras.preprocessing.image_dataset_from_directory(\n",
    "    \"E:\\\\leaf disease\\\\split dataset\\\\train\",\n",
    "    shuffle=True,\n",
    "    image_size=(IMAGE_HEIGHT,IMAGE_WIDTH),\n",
    "    batch_size=BATCH_SIZE\n",
    ")"
   ]
  },
  {
   "cell_type": "code",
   "execution_count": 4,
   "id": "37d45268",
   "metadata": {},
   "outputs": [
    {
     "name": "stdout",
     "output_type": "stream",
     "text": [
      "Found 2343 files belonging to 17 classes.\n"
     ]
    }
   ],
   "source": [
    "ValidationDataset= tf.keras.preprocessing.image_dataset_from_directory(\n",
    "    \"E:\\\\leaf disease\\\\split dataset\\\\val\",\n",
    "    shuffle=False,\n",
    "    image_size=(IMAGE_HEIGHT,IMAGE_WIDTH),\n",
    "    batch_size=BATCH_SIZE\n",
    ")"
   ]
  },
  {
   "cell_type": "code",
   "execution_count": 5,
   "id": "d24246ec",
   "metadata": {},
   "outputs": [],
   "source": [
    "classes= TrainDataset.class_names\n"
   ]
  },
  {
   "cell_type": "code",
   "execution_count": 8,
   "id": "0266cfda",
   "metadata": {},
   "outputs": [],
   "source": [
    "Resize_Rescale = tf.keras.Sequential([\n",
    "    layers.experimental.preprocessing.Resizing(IMAGE_HEIGHT,IMAGE_WIDTH),\n",
    "    layers.experimental.preprocessing.Rescaling(1./255),\n",
    "    layers.experimental.preprocessing.RandomRotation(0.1),\n",
    "    layers.experimental.preprocessing.RandomZoom(0.1)\n",
    "])"
   ]
  },
  {
   "cell_type": "code",
   "execution_count": 9,
   "id": "ef636fd0",
   "metadata": {},
   "outputs": [],
   "source": [
    "InputShape = (IMAGE_HEIGHT,IMAGE_WIDTH, CHANNELS)\n",
    "\n",
    "efficientnet_v2_model = \"https://tfhub.dev/google/imagenet/efficientnet_v2_imagenet1k_b0/feature_vector/2\"\n",
    "\n",
    "efficientnet_v2_model_without_top_layer = hub.KerasLayer(\n",
    "    efficientnet_v2_model, \n",
    "    input_shape=InputShape, \n",
    "    trainable=False)"
   ]
  },
  {
   "cell_type": "code",
   "execution_count": 10,
   "id": "28f35231",
   "metadata": {},
   "outputs": [],
   "source": [
    "OutputClasses=len(classes)"
   ]
  },
  {
   "cell_type": "code",
   "execution_count": 11,
   "id": "3eddaa81",
   "metadata": {},
   "outputs": [
    {
     "name": "stdout",
     "output_type": "stream",
     "text": [
      "Model: \"sequential_2\"\n",
      "_________________________________________________________________\n",
      " Layer (type)                Output Shape              Param #   \n",
      "=================================================================\n",
      " sequential_1 (Sequential)   (None, 224, 224, 3)       0         \n",
      "                                                                 \n",
      " keras_layer_1 (KerasLayer)  (None, 1280)              5919312   \n",
      "                                                                 \n",
      " dense (Dense)               (None, 17)                21777     \n",
      "                                                                 \n",
      "=================================================================\n",
      "Total params: 5,941,089\n",
      "Trainable params: 21,777\n",
      "Non-trainable params: 5,919,312\n",
      "_________________________________________________________________\n"
     ]
    }
   ],
   "source": [
    "Model = tf.keras.Sequential([\n",
    "    Resize_Rescale,\n",
    "    efficientnet_v2_model_without_top_layer,\n",
    "    tf.keras.layers.Dense(OutputClasses, activation='softmax')\n",
    "])\n",
    "Model.build([None, IMAGE_HEIGHT,IMAGE_WIDTH,CHANNELS]) \n",
    "Model.summary()"
   ]
  },
  {
   "cell_type": "code",
   "execution_count": 12,
   "id": "cb4e541f",
   "metadata": {},
   "outputs": [],
   "source": [
    "Model.compile(\n",
    "  optimizer=\"adam\",\n",
    "  loss=tf.keras.losses.SparseCategoricalCrossentropy(from_logits=False),\n",
    "  metrics=['accuracy'])"
   ]
  },
  {
   "cell_type": "code",
   "execution_count": 13,
   "id": "1c814cdb",
   "metadata": {},
   "outputs": [
    {
     "name": "stdout",
     "output_type": "stream",
     "text": [
      "Epoch 1/8\n",
      "626/626 [==============================] - 830s 1s/step - loss: 0.8944 - accuracy: 0.7593 - val_loss: 0.5457 - val_accuracy: 0.8399\n",
      "Epoch 2/8\n",
      "626/626 [==============================] - 690s 1s/step - loss: 0.4378 - accuracy: 0.8811 - val_loss: 0.4074 - val_accuracy: 0.8749\n",
      "Epoch 3/8\n",
      "626/626 [==============================] - 697s 1s/step - loss: 0.3326 - accuracy: 0.9089 - val_loss: 0.3435 - val_accuracy: 0.8899\n",
      "Epoch 4/8\n",
      "626/626 [==============================] - 698s 1s/step - loss: 0.2808 - accuracy: 0.9219 - val_loss: 0.3106 - val_accuracy: 0.9014\n",
      "Epoch 5/8\n",
      "626/626 [==============================] - 696s 1s/step - loss: 0.2443 - accuracy: 0.9313 - val_loss: 0.2810 - val_accuracy: 0.9104\n",
      "Epoch 6/8\n",
      "626/626 [==============================] - 695s 1s/step - loss: 0.2218 - accuracy: 0.9372 - val_loss: 0.2692 - val_accuracy: 0.9129\n",
      "Epoch 7/8\n",
      "626/626 [==============================] - 692s 1s/step - loss: 0.2026 - accuracy: 0.9417 - val_loss: 0.2453 - val_accuracy: 0.9172\n",
      "Epoch 8/8\n",
      "626/626 [==============================] - 737s 1s/step - loss: 0.1865 - accuracy: 0.9468 - val_loss: 0.2277 - val_accuracy: 0.9253\n"
     ]
    }
   ],
   "source": [
    "TrainingHistory = Model.fit(\n",
    "    TrainDataset,\n",
    "    batch_size=BATCH_SIZE,\n",
    "    validation_data=ValidationDataset,\n",
    "    verbose=1,\n",
    "    epochs=EPOCHS, \n",
    ")"
   ]
  },
  {
   "cell_type": "code",
   "execution_count": 14,
   "id": "99fc3433",
   "metadata": {},
   "outputs": [],
   "source": [
    "Model.save(\"E:\\\\leaf disease\\\\LFR EFFICIENTNET.h5\")"
   ]
  },
  {
   "cell_type": "code",
   "execution_count": 15,
   "id": "5a86b251",
   "metadata": {},
   "outputs": [
    {
     "data": {
      "text/plain": [
       "<keras.callbacks.History at 0x194cba667c0>"
      ]
     },
     "execution_count": 15,
     "metadata": {},
     "output_type": "execute_result"
    }
   ],
   "source": [
    "TrainingHistory"
   ]
  },
  {
   "cell_type": "code",
   "execution_count": 16,
   "id": "e9de5598",
   "metadata": {},
   "outputs": [
    {
     "data": {
      "text/plain": [
       "{'verbose': 1, 'epochs': 8, 'steps': 626}"
      ]
     },
     "execution_count": 16,
     "metadata": {},
     "output_type": "execute_result"
    }
   ],
   "source": [
    "TrainingHistory.params"
   ]
  },
  {
   "cell_type": "code",
   "execution_count": 17,
   "id": "7503cede",
   "metadata": {},
   "outputs": [
    {
     "data": {
      "text/plain": [
       "dict_keys(['loss', 'accuracy', 'val_loss', 'val_accuracy'])"
      ]
     },
     "execution_count": 17,
     "metadata": {},
     "output_type": "execute_result"
    }
   ],
   "source": [
    "TrainingHistory.history.keys()"
   ]
  },
  {
   "cell_type": "code",
   "execution_count": 18,
   "id": "277dcbbe",
   "metadata": {},
   "outputs": [],
   "source": [
    "TrainingAccuracy = TrainingHistory.history['accuracy']\n",
    "ValidationAccuracy = TrainingHistory.history['val_accuracy']\n",
    "TrainignLoss = TrainingHistory.history['loss']\n",
    "ValidationLoss = TrainingHistory.history['val_loss']"
   ]
  },
  {
   "cell_type": "code",
   "execution_count": 19,
   "id": "b72a37aa",
   "metadata": {},
   "outputs": [
    {
     "data": {
      "text/plain": [
       "Text(0.5, 1.0, 'Training and Validation Accuracy')"
      ]
     },
     "execution_count": 19,
     "metadata": {},
     "output_type": "execute_result"
    },
    {
     "data": {
      "image/png": "[encoded data removed]",
      "text/plain": [
       "<Figure size 432x288 with 1 Axes>"
      ]
     },
     "metadata": {
      "needs_background": "light"
     },
     "output_type": "display_data"
    }
   ],
   "source": [
    "plt.plot(range(EPOCHS), TrainingAccuracy, label='Training Accuracy')\n",
    "plt.plot(range(EPOCHS), ValidationAccuracy, label='Validation Accuracy')\n",
    "plt.legend(loc='lower right')\n",
    "plt.title('Training and Validation Accuracy')\n"
   ]
  },
  {
   "cell_type": "code",
   "execution_count": 20,
   "id": "c028f7ca",
   "metadata": {},
   "outputs": [
    {
     "data": {
      "image/png": "[encoded data removed]",
      "text/plain": [
       "<Figure size 432x288 with 1 Axes>"
      ]
     },
     "metadata": {
      "needs_background": "light"
     },
     "output_type": "display_data"
    }
   ],
   "source": [
    "plt.plot(range(EPOCHS), TrainignLoss, label='Training Loss')\n",
    "plt.plot(range(EPOCHS), ValidationLoss, label='Validation Loss')\n",
    "plt.legend(loc='upper right')\n",
    "plt.title('Training and Validation Loss')\n",
    "plt.show()"
   ]
  },
  {
   "cell_type": "code",
   "execution_count": null,
   "id": "d7a2fb42",
   "metadata": {},
   "outputs": [],
   "source": []
  }
 ],
 "metadata": {
  "kernelspec": {
   "display_name": "Python 3 (ipykernel)",
   "language": "python",
   "name": "python3"
  },
  "language_info": {
   "codemirror_mode": {
    "name": "ipython",
    "version": 3
   },
   "file_extension": ".py",
   "mimetype": "text/x-python",
   "name": "python",
   "nbconvert_exporter": "python",
   "pygments_lexer": "ipython3",
   "version": "3.8.5"
  }
 },
 "nbformat": 4,
 "nbformat_minor": 5
}
